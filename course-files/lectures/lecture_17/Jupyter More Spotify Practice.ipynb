{
 "cells": [
  {
   "cell_type": "markdown",
   "metadata": {},
   "source": [
    "# Challenge\n",
    "1. Use the `get_similar_tracks` function of the spotify module to recommend a set of tracks to someone based on: \n",
    "  1. Their favorite song\n",
    "  2. Their favorite artist\n",
    "  \n",
    "2. Email them a list of tracks in a table (use the built-in `get_formatted_tracklist_table_html` function)\n",
    "\n"
   ]
  },
  {
   "cell_type": "code",
   "execution_count": 1,
   "metadata": {},
   "outputs": [],
   "source": [
    "from apis import spotify, sendgrid, utilities"
   ]
  },
  {
   "cell_type": "code",
   "execution_count": 2,
   "metadata": {},
   "outputs": [
    {
     "name": "stdout",
     "output_type": "stream",
     "text": [
      "Help on module apis.spotify in apis:\n",
      "\n",
      "NAME\n",
      "    apis.spotify\n",
      "\n",
      "FUNCTIONS\n",
      "    get_album_player_html(album_id: int, width: int = 300, height: int = 380)\n",
      "    \n",
      "    get_artists(search_term: str, simplify: bool = True)\n",
      "        Retrieves a list of Spotify artists, given the search term passed in.\n",
      "            * search_term (str): [Required] A search term (for an artist), represented as a string.\n",
      "            * simplify (bool):   Indicates whether you want to simplify the data that is returned.\n",
      "        Returns a list of artists.\n",
      "    \n",
      "    get_audio_features_by_track(track_id: str)\n",
      "        Retrieves Spotify's audio analysis of the track.\n",
      "            * track_id (str): [Required] The id of the Spotify track.\n",
      "        Returns a list of audio features.\n",
      "    \n",
      "    get_formatted_tracklist_table_html(tracks: list)\n",
      "        Makes a nice formatted HTML table of tracks. Good for writing to an \n",
      "        HTML file or for sending in an email.\n",
      "            * tracks(list): [Required] A list of tracks\n",
      "        Returns an HTML table as a string\n",
      "    \n",
      "    get_genres()\n",
      "    \n",
      "    get_genres_abridged()\n",
      "    \n",
      "    get_playlist_player_html(playlist_id: int, width: int = 400, height: int = 280)\n",
      "    \n",
      "    get_playlists(search_term: str, simplify: bool = True)\n",
      "        Retrieves a list of Spotify tracks, given the search term passed in.\n",
      "            * search_term (str): [Required] A search term (for a song), represented as a string.\n",
      "            * simplify (bool):   Indicates whether you want to simplify the data that is returned.\n",
      "        Returns a list of tracks.\n",
      "    \n",
      "    get_playlists_by_user(user_id: str, simplify: bool = True)\n",
      "        Retrieves a list of Spotify tracks, given the search term passed in.\n",
      "            * search_term (str): [Required] A search term (for a song), represented as a string.\n",
      "            * simplify (bool):   Indicates whether you want to simplify the data that is returned.\n",
      "        Returns a list of tracks.\n",
      "    \n",
      "    get_related_artists(artist_id: str, simplify: bool = True)\n",
      "        Retrieves a list of artists related to the artist you specify\n",
      "            * artist_id (str): [Required] The Spotify id of the artist, represented as a string.\n",
      "            * simplify (bool):   Indicates whether you want to simplify the data that is returned.\n",
      "        Returns a list of artists.\n",
      "    \n",
      "    get_similar_tracks(artist_ids: list = [], track_ids: list = [], genres: list = [], simplify=False)\n",
      "        Spotify's way of providing recommendations. One or more params is required: \n",
      "        artist_ids, track_ids, or genres. Up to 5 seed values may be provided in \n",
      "        any combination of seed_artists, seed_tracks and seed_genres. In other words:\n",
      "        len(artist_ids) + len(track_ids) + len(genres) between 1 and 5.\n",
      "            * artist_ids (list): A list of artist ids\n",
      "            * track_ids (list): A list of track ids\n",
      "            * genres (genres): A list of genres\n",
      "        Returns a list of tracks that are similar\n",
      "    \n",
      "    get_track_player_html(track_id: int)\n",
      "        Creates the HTML tags for a Spotify player.\n",
      "            * track_id (int): [Required] The id of a track.\n",
      "        Returns an HTML iFrame  (str) corresponding to a Spotify player for the track.\n",
      "    \n",
      "    get_tracks(search_term: str, simplify: bool = True)\n",
      "        Retrieves a list of Spotify tracks, given the search term passed in.\n",
      "            * search_term (str): [Required] A search term (for a song), represented as a string.\n",
      "            * simplify (bool):   Indicates whether you want to simplify the data that is returned.\n",
      "        Returns a list of tracks.\n",
      "    \n",
      "    get_tracks_by_artist(artist_id: str, simplify: bool = True)\n",
      "        Retrieves a list of Spotify \"top tracks\" by an artist\n",
      "            * artist_id (str): [Required] The Spotify id of the artist.\n",
      "            * simplify (bool):   Indicates whether you want to simplify the data that is returned.\n",
      "        Returns a list of tracks.\n",
      "    \n",
      "    get_tracks_by_playlist(playlist_id: str, simplify: bool = False)\n",
      "        Retrieves a list of the tracks associated with a playlist_id\n",
      "            * playlist_id (str): [Required] The id of the Spotify playlist.\n",
      "            * simplify (bool):   Whether you want to simplify the data that is returned.\n",
      "        Returns a list of tracks.\n",
      "\n",
      "FILE\n",
      "    /Users/vanwars/northwestern/cs110/spring2019/course-website/course-files/lectures/lecture_17/apis/spotify.py\n",
      "\n",
      "\n"
     ]
    }
   ],
   "source": [
    "help(spotify)"
   ]
  },
  {
   "cell_type": "code",
   "execution_count": null,
   "metadata": {},
   "outputs": [],
   "source": []
  }
 ],
 "metadata": {
  "kernelspec": {
   "display_name": "Python 3",
   "language": "python",
   "name": "python3"
  },
  "language_info": {
   "codemirror_mode": {
    "name": "ipython",
    "version": 3
   },
   "file_extension": ".py",
   "mimetype": "text/x-python",
   "name": "python",
   "nbconvert_exporter": "python",
   "pygments_lexer": "ipython3",
   "version": "3.7.0"
  }
 },
 "nbformat": 4,
 "nbformat_minor": 2
}
