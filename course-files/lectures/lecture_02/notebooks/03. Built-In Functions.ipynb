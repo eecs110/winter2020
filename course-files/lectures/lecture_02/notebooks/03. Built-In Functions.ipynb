{
 "cells": [
  {
   "cell_type": "markdown",
   "metadata": {},
   "source": [
    "# FUNCTIONS"
   ]
  },
  {
   "cell_type": "markdown",
   "metadata": {},
   "source": [
    "## 2. Built-In Functions\n",
    "Python has a number of built-in functions, which you can learn more about by reading the Python 3.x reference guide: https://docs.python.org/3/library/functions.html. You will be using some built-in functions in Homework 1.\n"
   ]
  },
  {
   "cell_type": "markdown",
   "metadata": {},
   "source": [
    "| Name | Description |\n",
    "|--|--|\n",
    "| [print()](#print) | Prints one or more objects to the screen. |\n",
    "| [type()](#type) | Tells you what kind of data type a particular object is. |\n",
    "| [input()](#input) | Prompts the user for an input, reads a line from the user's input, and converts the input to a string. |\n",
    "| [str()](#str) | Returns a string version of an object. |\n",
    "| [float()](#float) | Returns a float version of a number or string (if it can). |\n",
    "| [int()](#int) | Returns a int version of a number or string (if it can).  |\n",
    "| [bool()](#bool) | Returns a bool version of an expression (if it can).  |"
   ]
  },
  {
   "cell_type": "markdown",
   "metadata": {},
   "source": [
    "### print\n",
    "Prints one or more objects to the screen."
   ]
  },
  {
   "cell_type": "code",
   "execution_count": null,
   "metadata": {},
   "outputs": [],
   "source": [
    "# print a single argument:\n",
    "print('Hi there')"
   ]
  },
  {
   "cell_type": "code",
   "execution_count": null,
   "metadata": {},
   "outputs": [],
   "source": [
    "# print multiple arguments with a space in between each argument (a space character is the default separator):\n",
    "print('Hello', 'how', 'are', 'you', 'doing', '?')\n",
    "print('The answer is:', 22)"
   ]
  },
  {
   "cell_type": "code",
   "execution_count": null,
   "metadata": {},
   "outputs": [],
   "source": [
    "# optional \"sep\" (separator) argument prints whatever you set as your separator string between each word\n",
    "print('Hello', 'how', 'are', 'you', 'doing', '?', sep='~~~~~')\n",
    "print('Hello', 'how', 'are', 'you', 'doing', '?', sep=':::')"
   ]
  },
  {
   "cell_type": "code",
   "execution_count": null,
   "metadata": {},
   "outputs": [],
   "source": [
    "# optional \"sep\" (separator) argument prints whatever you set as your separator string between each word\n",
    "# optional \"end\" argument prints whatever you set as your end string as the very last character\n",
    "print('Hello', 'how', 'are', 'you', 'doing', sep='  |  ', end='?')"
   ]
  },
  {
   "cell_type": "markdown",
   "metadata": {},
   "source": [
    "### type\n",
    "Tells you what kind of data type a particular object is."
   ]
  },
  {
   "cell_type": "code",
   "execution_count": null,
   "metadata": {},
   "outputs": [],
   "source": [
    "print(type(3))\n",
    "print(type(3.5))\n",
    "print(type(True))\n",
    "print(type('Hello'))\n",
    "print(type(type))"
   ]
  },
  {
   "cell_type": "markdown",
   "metadata": {},
   "source": [
    "### input\n",
    "Prompts the user for an input, reads a line from the user's input, and converts the input to a string."
   ]
  },
  {
   "cell_type": "code",
   "execution_count": null,
   "metadata": {},
   "outputs": [],
   "source": [
    "answer = input('How old are you? ')\n",
    "print(answer)"
   ]
  },
  {
   "cell_type": "code",
   "execution_count": null,
   "metadata": {},
   "outputs": [],
   "source": [
    "num_1 = input('What is your first number? ')\n",
    "num_2 = input('What is your second number?')\n",
    "print('The sum of your numbers is:', num_1 + num_2)"
   ]
  },
  {
   "cell_type": "code",
   "execution_count": null,
   "metadata": {},
   "outputs": [],
   "source": [
    "num_1 = int(input('What is your first number? '))\n",
    "num_2 = int(input('What is your second number?'))\n",
    "print('The sum of your numbers is:', num_1 + num_2)"
   ]
  },
  {
   "cell_type": "markdown",
   "metadata": {},
   "source": [
    "### str\n",
    "Returns a string version of an object. "
   ]
  },
  {
   "cell_type": "code",
   "execution_count": null,
   "metadata": {},
   "outputs": [],
   "source": [
    "print(str(1))\n",
    "print(str(1.5))\n",
    "print(str(True))\n",
    "print(str(dir))\n",
    "print(str(int))\n",
    "print(str(len))"
   ]
  },
  {
   "cell_type": "markdown",
   "metadata": {},
   "source": [
    "### float\n",
    "Returns a float version of a number or string (if it can)."
   ]
  },
  {
   "cell_type": "code",
   "execution_count": null,
   "metadata": {},
   "outputs": [],
   "source": [
    "print(float('2.99'))"
   ]
  },
  {
   "cell_type": "code",
   "execution_count": null,
   "metadata": {},
   "outputs": [],
   "source": [
    "print(float('-4E8'))  # same as -4.0 * 10 ** 8\n",
    "print(-4.0 * 10 ** 8)"
   ]
  },
  {
   "cell_type": "code",
   "execution_count": null,
   "metadata": {},
   "outputs": [],
   "source": [
    "print(float(2))"
   ]
  },
  {
   "cell_type": "markdown",
   "metadata": {},
   "source": [
    "### int\n",
    "Returns a int version of a number or string (if it can). "
   ]
  },
  {
   "cell_type": "code",
   "execution_count": null,
   "metadata": {},
   "outputs": [],
   "source": [
    "print(int(True))"
   ]
  },
  {
   "cell_type": "code",
   "execution_count": null,
   "metadata": {},
   "outputs": [],
   "source": [
    "print(int(2.99))"
   ]
  },
  {
   "cell_type": "code",
   "execution_count": null,
   "metadata": {},
   "outputs": [],
   "source": [
    "# print(int('2.99'))  # this does not work\n",
    "print(int('2'))"
   ]
  },
  {
   "cell_type": "code",
   "execution_count": null,
   "metadata": {},
   "outputs": [],
   "source": [
    "# print(int('hi'))  # this does not work"
   ]
  },
  {
   "cell_type": "markdown",
   "metadata": {},
   "source": [
    "### bool\n",
    "Returns a bool version of an expression (if it can)."
   ]
  },
  {
   "cell_type": "code",
   "execution_count": null,
   "metadata": {},
   "outputs": [],
   "source": [
    "print(bool(1))"
   ]
  },
  {
   "cell_type": "code",
   "execution_count": null,
   "metadata": {},
   "outputs": [],
   "source": [
    "print(bool('True'))"
   ]
  },
  {
   "cell_type": "code",
   "execution_count": null,
   "metadata": {},
   "outputs": [],
   "source": [
    "print(bool(True))"
   ]
  },
  {
   "cell_type": "code",
   "execution_count": null,
   "metadata": {},
   "outputs": [],
   "source": [
    "print(bool('False')) # non-empty things get converted to True"
   ]
  },
  {
   "cell_type": "code",
   "execution_count": null,
   "metadata": {},
   "outputs": [],
   "source": [
    "print(bool([33]))  # non-empty things get converted to True"
   ]
  },
  {
   "cell_type": "code",
   "execution_count": null,
   "metadata": {},
   "outputs": [],
   "source": [
    "print(bool(False)) "
   ]
  },
  {
   "cell_type": "code",
   "execution_count": null,
   "metadata": {},
   "outputs": [],
   "source": [
    "print(bool(None))  # empty things get converted to False"
   ]
  },
  {
   "cell_type": "code",
   "execution_count": null,
   "metadata": {},
   "outputs": [],
   "source": [
    "print(bool(0))     # 0 gets converted to False"
   ]
  },
  {
   "cell_type": "code",
   "execution_count": null,
   "metadata": {},
   "outputs": [],
   "source": [
    "print(bool([]))  # empty things get converted to False"
   ]
  },
  {
   "cell_type": "code",
   "execution_count": null,
   "metadata": {},
   "outputs": [],
   "source": [
    "%%html\n",
    "<!-- some HTML styling. Ignore this cell -->\n",
    "<style>\n",
    "    .rendered_html td, .rendered_html th { text-align: left; }\n",
    "    .rendered_html table { max-width: 700px; }\n",
    "</style>"
   ]
  },
  {
   "cell_type": "code",
   "execution_count": null,
   "metadata": {},
   "outputs": [],
   "source": []
  }
 ],
 "metadata": {
  "kernelspec": {
   "display_name": "Python 3",
   "language": "python",
   "name": "python3"
  },
  "language_info": {
   "codemirror_mode": {
    "name": "ipython",
    "version": 3
   },
   "file_extension": ".py",
   "mimetype": "text/x-python",
   "name": "python",
   "nbconvert_exporter": "python",
   "pygments_lexer": "ipython3",
   "version": "3.7.0"
  }
 },
 "nbformat": 4,
 "nbformat_minor": 2
}
