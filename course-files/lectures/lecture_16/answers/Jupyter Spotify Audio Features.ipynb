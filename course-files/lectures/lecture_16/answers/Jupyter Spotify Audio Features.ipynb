{
 "cells": [
  {
   "cell_type": "markdown",
   "metadata": {},
   "source": [
    "# Spotify: Working with Audio Analysis"
   ]
  },
  {
   "cell_type": "code",
   "execution_count": null,
   "metadata": {},
   "outputs": [],
   "source": [
    "# import dependencies:\n",
    "from apis import spotify\n",
    "from pprint import pprint\n",
    "import pandas as pd\n",
    "from IPython.display import HTML\n",
    "\n",
    "from IPython.core.display import HTML\n",
    "\n",
    "# some formatting:\n",
    "HTML(spotify.get_jupyter_styling())"
   ]
  },
  {
   "cell_type": "code",
   "execution_count": null,
   "metadata": {},
   "outputs": [],
   "source": [
    "# Let's understand our options by using the help function:\n",
    "# help(spotify)"
   ]
  },
  {
   "cell_type": "markdown",
   "metadata": {},
   "source": [
    "## 1. Get tracks by search term"
   ]
  },
  {
   "cell_type": "code",
   "execution_count": null,
   "metadata": {},
   "outputs": [],
   "source": [
    "# search_term = input('What song do you want to listen to? ')\n",
    "search_term = 'blowin in the wind'\n",
    "tracks = spotify.get_tracks(search_term)\n",
    "\n",
    "# 1. Uncomment below to see the returned data:\n",
    "#    pprint(tracks)\n",
    "\n",
    "# 2. pandas doesn't gracefully handle heirarchal data (uncomment below to see what I mean)\n",
    "# df = pd.DataFrame(tracks)\n",
    "# df.head(3)\n",
    "\n",
    "# 3. Format data and display in Pandas:\n",
    "tracks = spotify.flatten_for_pandas(tracks)\n",
    "df = pd.DataFrame(tracks).set_index('num')\n",
    "df[['artist_name', 'name', 'album_name', 'album_image_url']].head(8)"
   ]
  },
  {
   "cell_type": "markdown",
   "metadata": {},
   "source": [
    "## 2. Analyze a track"
   ]
  },
  {
   "cell_type": "code",
   "execution_count": null,
   "metadata": {},
   "outputs": [],
   "source": [
    "#track_num = input('What track would you like to listen to (1-10)? ')\n",
    "#track_num = int(track_num) - 1\n",
    "track_num = 1\n",
    "\n",
    "analysis = spotify.get_audio_features_by_track(tracks[track_num]['id'])\n",
    "# pprint(analysis)\n",
    "for key in analysis:\n",
    "    print('{key:>16}: {val}'.format(key=key, val=analysis[key]))"
   ]
  },
  {
   "cell_type": "markdown",
   "metadata": {},
   "source": [
    "## 3. Get similar tracks"
   ]
  },
  {
   "cell_type": "code",
   "execution_count": null,
   "metadata": {
    "scrolled": true
   },
   "outputs": [],
   "source": [
    "# play the whole album:\n",
    "track_id = tracks[track_num]['id']\n",
    "artist_id = tracks[track_num]['artist_id']\n",
    "tracks = spotify.get_similar_tracks(track_ids=[track_id], artist_ids=[artist_id], simplify=True)\n",
    "# pprint(tracks, depth=3)\n",
    "\n",
    "tracks = spotify.flatten_for_pandas(tracks)\n",
    "df = pd.DataFrame(tracks).set_index('num')\n",
    "df[['artist_name', 'name', 'album_name', 'album_image_url']].head(8)"
   ]
  },
  {
   "cell_type": "markdown",
   "metadata": {},
   "source": [
    "## 4. Display all album covers"
   ]
  },
  {
   "cell_type": "code",
   "execution_count": null,
   "metadata": {},
   "outputs": [],
   "source": [
    "# display all of the album covers:\n",
    "html = ''\n",
    "for track in tracks[0:8]:\n",
    "    html += spotify.get_image_html(track['album_image_url'])\n",
    "display(HTML(\n",
    "    html\n",
    "))"
   ]
  },
  {
   "cell_type": "code",
   "execution_count": null,
   "metadata": {},
   "outputs": [],
   "source": []
  }
 ],
 "metadata": {
  "kernelspec": {
   "display_name": "Python 3",
   "language": "python",
   "name": "python3"
  },
  "language_info": {
   "codemirror_mode": {
    "name": "ipython",
    "version": 3
   },
   "file_extension": ".py",
   "mimetype": "text/x-python",
   "name": "python",
   "nbconvert_exporter": "python",
   "pygments_lexer": "ipython3",
   "version": "3.7.0"
  }
 },
 "nbformat": 4,
 "nbformat_minor": 2
}
