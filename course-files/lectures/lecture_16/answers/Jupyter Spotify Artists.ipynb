{
 "cells": [
  {
   "cell_type": "markdown",
   "metadata": {},
   "source": [
    "# Spotify: Working with Artists"
   ]
  },
  {
   "cell_type": "code",
   "execution_count": 1,
   "metadata": {},
   "outputs": [
    {
     "data": {
      "text/html": [
       "\n",
       "        <style>\n",
       "            .rendered_html img { \n",
       "                display: inline-block; \n",
       "                vertical-align: baseline;\n",
       "                max-width: 200px !important;\n",
       "                margin-right: 20px !important;\n",
       "            }\n",
       "            .rendered_html td, .rendered_html th { text-align: left !important; }\n",
       "        </style>\n",
       "        "
      ],
      "text/plain": [
       "<IPython.core.display.HTML object>"
      ]
     },
     "execution_count": 1,
     "metadata": {},
     "output_type": "execute_result"
    }
   ],
   "source": [
    "# import dependencies:\n",
    "from apis import spotify\n",
    "from pprint import pprint\n",
    "import pandas as pd\n",
    "from IPython.display import HTML\n",
    "\n",
    "from IPython.core.display import HTML\n",
    "\n",
    "# some formatting:\n",
    "HTML(spotify.get_jupyter_styling())"
   ]
  },
  {
   "cell_type": "code",
   "execution_count": 2,
   "metadata": {},
   "outputs": [],
   "source": [
    "# Let's understand our options by using the help function:\n",
    "# help(spotify)"
   ]
  },
  {
   "cell_type": "markdown",
   "metadata": {},
   "source": [
    "## 1. Get artists by search term"
   ]
  },
  {
   "cell_type": "code",
   "execution_count": 3,
   "metadata": {},
   "outputs": [
    {
     "data": {
      "text/html": [
       "<div>\n",
       "<style scoped>\n",
       "    .dataframe tbody tr th:only-of-type {\n",
       "        vertical-align: middle;\n",
       "    }\n",
       "\n",
       "    .dataframe tbody tr th {\n",
       "        vertical-align: top;\n",
       "    }\n",
       "\n",
       "    .dataframe thead th {\n",
       "        text-align: right;\n",
       "    }\n",
       "</style>\n",
       "<table border=\"1\" class=\"dataframe\">\n",
       "  <thead>\n",
       "    <tr style=\"text-align: right;\">\n",
       "      <th></th>\n",
       "      <th>name</th>\n",
       "      <th>image_url</th>\n",
       "      <th>id</th>\n",
       "    </tr>\n",
       "    <tr>\n",
       "      <th>num</th>\n",
       "      <th></th>\n",
       "      <th></th>\n",
       "      <th></th>\n",
       "    </tr>\n",
       "  </thead>\n",
       "  <tbody>\n",
       "    <tr>\n",
       "      <th>1</th>\n",
       "      <td>The Head and the Heart</td>\n",
       "      <td>https://i.scdn.co/image/31c98c4125d3c0ae3e1d74...</td>\n",
       "      <td>0n94vC3S9c3mb2HyNAOcjg</td>\n",
       "    </tr>\n",
       "    <tr>\n",
       "      <th>2</th>\n",
       "      <td>The Mamas &amp; The Papas</td>\n",
       "      <td>https://i.scdn.co/image/6fce95df71363a9432e4ad...</td>\n",
       "      <td>1bs7HoMkSyQwcobCpE9KpN</td>\n",
       "    </tr>\n",
       "    <tr>\n",
       "      <th>3</th>\n",
       "      <td>The The</td>\n",
       "      <td>https://i.scdn.co/image/694b6dc50ca08a18872a37...</td>\n",
       "      <td>7cKtqv9cYVlOwnuCFH95ce</td>\n",
       "    </tr>\n",
       "    <tr>\n",
       "      <th>4</th>\n",
       "      <td>The Presidents Of The United States Of America</td>\n",
       "      <td>https://i.scdn.co/image/fea0ca15171adee5a512bc...</td>\n",
       "      <td>1lZvg4fNAqHoj6I9N8naBM</td>\n",
       "    </tr>\n",
       "    <tr>\n",
       "      <th>5</th>\n",
       "      <td>The Wind and The Wave</td>\n",
       "      <td>https://i.scdn.co/image/dfe57d9d630b733fe59251...</td>\n",
       "      <td>5GMZzcgmUwopsHBB7TyCsy</td>\n",
       "    </tr>\n",
       "    <tr>\n",
       "      <th>6</th>\n",
       "      <td>The Brook &amp; The Bluff</td>\n",
       "      <td>https://i.scdn.co/image/8a1de48803c971dfd800bc...</td>\n",
       "      <td>4dWtsQvuME6tCWFycaTvO7</td>\n",
       "    </tr>\n",
       "    <tr>\n",
       "      <th>7</th>\n",
       "      <td>the bird and the bee</td>\n",
       "      <td>https://i.scdn.co/image/89c2dd6524f0fd1a989fa5...</td>\n",
       "      <td>65XA3lk0aG9XejO8y37jjD</td>\n",
       "    </tr>\n",
       "    <tr>\n",
       "      <th>8</th>\n",
       "      <td>The Girl and The Dreamcatcher</td>\n",
       "      <td>https://i.scdn.co/image/fb024a2bd61d343d178e9d...</td>\n",
       "      <td>1xVYxkSq6IWhFpSW1OMe41</td>\n",
       "    </tr>\n",
       "  </tbody>\n",
       "</table>\n",
       "</div>"
      ],
      "text/plain": [
       "                                               name  \\\n",
       "num                                                   \n",
       "1                            The Head and the Heart   \n",
       "2                             The Mamas & The Papas   \n",
       "3                                           The The   \n",
       "4    The Presidents Of The United States Of America   \n",
       "5                             The Wind and The Wave   \n",
       "6                             The Brook & The Bluff   \n",
       "7                              the bird and the bee   \n",
       "8                     The Girl and The Dreamcatcher   \n",
       "\n",
       "                                             image_url                      id  \n",
       "num                                                                             \n",
       "1    https://i.scdn.co/image/31c98c4125d3c0ae3e1d74...  0n94vC3S9c3mb2HyNAOcjg  \n",
       "2    https://i.scdn.co/image/6fce95df71363a9432e4ad...  1bs7HoMkSyQwcobCpE9KpN  \n",
       "3    https://i.scdn.co/image/694b6dc50ca08a18872a37...  7cKtqv9cYVlOwnuCFH95ce  \n",
       "4    https://i.scdn.co/image/fea0ca15171adee5a512bc...  1lZvg4fNAqHoj6I9N8naBM  \n",
       "5    https://i.scdn.co/image/dfe57d9d630b733fe59251...  5GMZzcgmUwopsHBB7TyCsy  \n",
       "6    https://i.scdn.co/image/8a1de48803c971dfd800bc...  4dWtsQvuME6tCWFycaTvO7  \n",
       "7    https://i.scdn.co/image/89c2dd6524f0fd1a989fa5...  65XA3lk0aG9XejO8y37jjD  \n",
       "8    https://i.scdn.co/image/fb024a2bd61d343d178e9d...  1xVYxkSq6IWhFpSW1OMe41  "
      ]
     },
     "execution_count": 3,
     "metadata": {},
     "output_type": "execute_result"
    }
   ],
   "source": [
    "# search_term = input('Which artist do you want to listen to? ')\n",
    "search_term = '\"The The\"'\n",
    "artists = spotify.get_artists(search_term)\n",
    "\n",
    "# 1. Uncomment below to see the returned data:\n",
    "#    pprint(tracks)\n",
    "\n",
    "# 2. pandas doesn't gracefully handle heirarchal data (uncomment below to see what I mean)\n",
    "# df = pd.DataFrame(tracks)\n",
    "# df.head(3)\n",
    "\n",
    "# 3. Format data and display in Pandas:\n",
    "artists = spotify.flatten_for_pandas(artists)\n",
    "df = pd.DataFrame(artists).set_index('num')\n",
    "df[['name', 'image_url', 'id']].head(8)"
   ]
  },
  {
   "cell_type": "markdown",
   "metadata": {},
   "source": [
    "## 2. Ask the user which artist they'd like to listen to"
   ]
  },
  {
   "cell_type": "code",
   "execution_count": 4,
   "metadata": {},
   "outputs": [
    {
     "data": {
      "text/html": [
       "<div>\n",
       "<style scoped>\n",
       "    .dataframe tbody tr th:only-of-type {\n",
       "        vertical-align: middle;\n",
       "    }\n",
       "\n",
       "    .dataframe tbody tr th {\n",
       "        vertical-align: top;\n",
       "    }\n",
       "\n",
       "    .dataframe thead th {\n",
       "        text-align: right;\n",
       "    }\n",
       "</style>\n",
       "<table border=\"1\" class=\"dataframe\">\n",
       "  <thead>\n",
       "    <tr style=\"text-align: right;\">\n",
       "      <th></th>\n",
       "      <th>artist_name</th>\n",
       "      <th>name</th>\n",
       "      <th>album_name</th>\n",
       "      <th>album_image_url</th>\n",
       "    </tr>\n",
       "    <tr>\n",
       "      <th>num</th>\n",
       "      <th></th>\n",
       "      <th></th>\n",
       "      <th></th>\n",
       "      <th></th>\n",
       "    </tr>\n",
       "  </thead>\n",
       "  <tbody>\n",
       "    <tr>\n",
       "      <th>1</th>\n",
       "      <td>The The</td>\n",
       "      <td>This Is the Day</td>\n",
       "      <td>Soul Mining</td>\n",
       "      <td>https://i.scdn.co/image/2b5b3e3d16cddfc84874d8...</td>\n",
       "    </tr>\n",
       "    <tr>\n",
       "      <th>2</th>\n",
       "      <td>The The</td>\n",
       "      <td>Uncertain Smile</td>\n",
       "      <td>Soul Mining</td>\n",
       "      <td>https://i.scdn.co/image/2b5b3e3d16cddfc84874d8...</td>\n",
       "    </tr>\n",
       "    <tr>\n",
       "      <th>3</th>\n",
       "      <td>The The</td>\n",
       "      <td>Slow Emotion Replay</td>\n",
       "      <td>Dusk</td>\n",
       "      <td>https://i.scdn.co/image/ee62d37ed55f6011ba7906...</td>\n",
       "    </tr>\n",
       "    <tr>\n",
       "      <th>4</th>\n",
       "      <td>The The</td>\n",
       "      <td>Giant</td>\n",
       "      <td>Soul Mining</td>\n",
       "      <td>https://i.scdn.co/image/2b5b3e3d16cddfc84874d8...</td>\n",
       "    </tr>\n",
       "    <tr>\n",
       "      <th>5</th>\n",
       "      <td>The The</td>\n",
       "      <td>Heartland</td>\n",
       "      <td>Infected</td>\n",
       "      <td>https://i.scdn.co/image/eb2ed0c17353cb509c2a57...</td>\n",
       "    </tr>\n",
       "    <tr>\n",
       "      <th>6</th>\n",
       "      <td>The The</td>\n",
       "      <td>TheWhisperers</td>\n",
       "      <td>NakedSelf</td>\n",
       "      <td>https://i.scdn.co/image/16a7aff3e1b4984dd78041...</td>\n",
       "    </tr>\n",
       "    <tr>\n",
       "      <th>7</th>\n",
       "      <td>The The</td>\n",
       "      <td>Dogs Of Lust</td>\n",
       "      <td>Dusk</td>\n",
       "      <td>https://i.scdn.co/image/ee62d37ed55f6011ba7906...</td>\n",
       "    </tr>\n",
       "    <tr>\n",
       "      <th>8</th>\n",
       "      <td>The The</td>\n",
       "      <td>This Is The Night</td>\n",
       "      <td>Dusk</td>\n",
       "      <td>https://i.scdn.co/image/ee62d37ed55f6011ba7906...</td>\n",
       "    </tr>\n",
       "    <tr>\n",
       "      <th>9</th>\n",
       "      <td>The The</td>\n",
       "      <td>Kingdom of Rain - Remastered</td>\n",
       "      <td>Mind Bomb</td>\n",
       "      <td>https://i.scdn.co/image/ef8aa2093d190cad4feaff...</td>\n",
       "    </tr>\n",
       "    <tr>\n",
       "      <th>10</th>\n",
       "      <td>The The</td>\n",
       "      <td>Infected</td>\n",
       "      <td>Infected</td>\n",
       "      <td>https://i.scdn.co/image/eb2ed0c17353cb509c2a57...</td>\n",
       "    </tr>\n",
       "  </tbody>\n",
       "</table>\n",
       "</div>"
      ],
      "text/plain": [
       "    artist_name                          name   album_name  \\\n",
       "num                                                          \n",
       "1       The The               This Is the Day  Soul Mining   \n",
       "2       The The               Uncertain Smile  Soul Mining   \n",
       "3       The The           Slow Emotion Replay         Dusk   \n",
       "4       The The                         Giant  Soul Mining   \n",
       "5       The The                     Heartland     Infected   \n",
       "6       The The                 TheWhisperers    NakedSelf   \n",
       "7       The The                  Dogs Of Lust         Dusk   \n",
       "8       The The             This Is The Night         Dusk   \n",
       "9       The The  Kingdom of Rain - Remastered    Mind Bomb   \n",
       "10      The The                      Infected     Infected   \n",
       "\n",
       "                                       album_image_url  \n",
       "num                                                     \n",
       "1    https://i.scdn.co/image/2b5b3e3d16cddfc84874d8...  \n",
       "2    https://i.scdn.co/image/2b5b3e3d16cddfc84874d8...  \n",
       "3    https://i.scdn.co/image/ee62d37ed55f6011ba7906...  \n",
       "4    https://i.scdn.co/image/2b5b3e3d16cddfc84874d8...  \n",
       "5    https://i.scdn.co/image/eb2ed0c17353cb509c2a57...  \n",
       "6    https://i.scdn.co/image/16a7aff3e1b4984dd78041...  \n",
       "7    https://i.scdn.co/image/ee62d37ed55f6011ba7906...  \n",
       "8    https://i.scdn.co/image/ee62d37ed55f6011ba7906...  \n",
       "9    https://i.scdn.co/image/ef8aa2093d190cad4feaff...  \n",
       "10   https://i.scdn.co/image/eb2ed0c17353cb509c2a57...  "
      ]
     },
     "execution_count": 4,
     "metadata": {},
     "output_type": "execute_result"
    }
   ],
   "source": [
    "# artist_num = input('What artist would you like to listen to (1-10)? ')\n",
    "artist_num = 3\n",
    "artist_index = int(artist_num) - 1\n",
    "selected_artist = artists[artist_index]\n",
    "\n",
    "tracks = spotify.get_tracks_by_artist(selected_artist['id'], simplify=True)\n",
    "# pprint(tracks)\n",
    "tracks = spotify.flatten_for_pandas(tracks)\n",
    "df_tracks = pd.DataFrame(tracks).set_index('num')\n",
    "df_tracks[['artist_name', 'name', 'album_name', 'album_image_url']].head(10)"
   ]
  },
  {
   "cell_type": "markdown",
   "metadata": {},
   "source": [
    "## 3. Listen to track"
   ]
  },
  {
   "cell_type": "code",
   "execution_count": 5,
   "metadata": {
    "scrolled": true
   },
   "outputs": [
    {
     "data": {
      "text/html": [
       "\n",
       "    <iframe src=\"https://open.spotify.com/embed?uri=spotify:track:7d8NzhD3rycPayNCzmb9rK&amp;theme=white\" width=\"300\" height=\"80\" frameborder=\"0\" allowtransparency=\"true\" allow=\"encrypted-media\" data-testid=\"audio-player\">\n",
       "    </iframe>\n",
       "    "
      ],
      "text/plain": [
       "<IPython.core.display.HTML object>"
      ]
     },
     "metadata": {},
     "output_type": "display_data"
    }
   ],
   "source": [
    "# track_num = input('What track would you like to listen to (1-10)? ')\n",
    "track_num = 2\n",
    "track_num = int(track_num) - 1\n",
    "track_player = spotify.get_track_player_html(tracks[track_num]['id'])\n",
    "# print('This is what the HTML embed code looks like:\\n', track_player)\n",
    "\n",
    "display(HTML(track_player))"
   ]
  },
  {
   "cell_type": "markdown",
   "metadata": {},
   "source": [
    "## 4. Display artist's album covers"
   ]
  },
  {
   "cell_type": "code",
   "execution_count": 6,
   "metadata": {
    "scrolled": true
   },
   "outputs": [
    {
     "data": {
      "text/html": [
       "<img src=\"https://i.scdn.co/image/2b5b3e3d16cddfc84874d80404944401a30387fb\"/><img src=\"https://i.scdn.co/image/2b5b3e3d16cddfc84874d80404944401a30387fb\"/><img src=\"https://i.scdn.co/image/ee62d37ed55f6011ba79069862f2364f6d6f550d\"/><img src=\"https://i.scdn.co/image/2b5b3e3d16cddfc84874d80404944401a30387fb\"/><img src=\"https://i.scdn.co/image/eb2ed0c17353cb509c2a57265fe90dfc7c7fa592\"/><img src=\"https://i.scdn.co/image/16a7aff3e1b4984dd780417adb35327c36c16b6a\"/><img src=\"https://i.scdn.co/image/ee62d37ed55f6011ba79069862f2364f6d6f550d\"/><img src=\"https://i.scdn.co/image/ee62d37ed55f6011ba79069862f2364f6d6f550d\"/><img src=\"https://i.scdn.co/image/ef8aa2093d190cad4feaffd3202c7a2f91ae773b\"/><img src=\"https://i.scdn.co/image/eb2ed0c17353cb509c2a57265fe90dfc7c7fa592\"/>"
      ],
      "text/plain": [
       "<IPython.core.display.HTML object>"
      ]
     },
     "metadata": {},
     "output_type": "display_data"
    }
   ],
   "source": [
    "# display all of the album covers:\n",
    "html = ''\n",
    "for track in tracks:\n",
    "    if track.get('album_image_url'):\n",
    "        html += spotify.get_image_html(track['album_image_url'])\n",
    "display(HTML(\n",
    "    html\n",
    "))"
   ]
  },
  {
   "cell_type": "markdown",
   "metadata": {},
   "source": [
    "## 5. Get related artists"
   ]
  },
  {
   "cell_type": "code",
   "execution_count": null,
   "metadata": {},
   "outputs": [],
   "source": [
    "print('\\nDisplaying artists related to', selected_artist['name'], '...')\n",
    "\n",
    "related_artists = spotify.get_related_artists(selected_artist['id'])\n",
    "# pprint(related_artists)\n",
    "related_artists = spotify.flatten_for_pandas(related_artists)\n",
    "df = pd.DataFrame(related_artists).set_index('num')\n",
    "df[['name', 'image_url', 'id', 'genres']].head(8)"
   ]
  },
  {
   "cell_type": "code",
   "execution_count": null,
   "metadata": {},
   "outputs": [],
   "source": []
  }
 ],
 "metadata": {
  "kernelspec": {
   "display_name": "Python 3",
   "language": "python",
   "name": "python3"
  },
  "language_info": {
   "codemirror_mode": {
    "name": "ipython",
    "version": 3
   },
   "file_extension": ".py",
   "mimetype": "text/x-python",
   "name": "python",
   "nbconvert_exporter": "python",
   "pygments_lexer": "ipython3",
   "version": "3.7.0"
  }
 },
 "nbformat": 4,
 "nbformat_minor": 2
}
