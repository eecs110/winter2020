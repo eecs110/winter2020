{
 "cells": [
  {
   "cell_type": "markdown",
   "metadata": {},
   "source": [
    "# Spotify: Working with Playlists"
   ]
  },
  {
   "cell_type": "code",
   "execution_count": null,
   "metadata": {},
   "outputs": [],
   "source": [
    "# import dependencies:\n",
    "from apis import spotify\n",
    "from pprint import pprint\n",
    "import pandas as pd\n",
    "from IPython.display import HTML\n",
    "\n",
    "from IPython.core.display import HTML\n",
    "\n",
    "# some formatting:\n",
    "HTML(spotify.get_jupyter_styling())"
   ]
  },
  {
   "cell_type": "code",
   "execution_count": null,
   "metadata": {},
   "outputs": [],
   "source": [
    "# Let's understand our options by using the help function:\n",
    "# help(spotify)"
   ]
  },
  {
   "cell_type": "markdown",
   "metadata": {},
   "source": [
    "## 1. Get playlists by search term"
   ]
  },
  {
   "cell_type": "code",
   "execution_count": null,
   "metadata": {},
   "outputs": [],
   "source": [
    "# search_term = input('Which artist do you want to listen to? ')\n",
    "search_term = 'bob dylan'\n",
    "playlists = spotify.get_playlists(search_term)\n",
    "\n",
    "# 1. Uncomment below to see the returned data:\n",
    "# pprint(playlists)\n",
    "\n",
    "# 2. pandas doesn't gracefully handle heirarchal data (uncomment below to see what I mean)\n",
    "# df = pd.DataFrame(tracks)\n",
    "# df.head(3)\n",
    "\n",
    "# 3. Format data and display in Pandas:\n",
    "playlists = spotify.flatten_for_pandas(playlists)\n",
    "df = pd.DataFrame(playlists).set_index('num')\n",
    "df.head(8)"
   ]
  },
  {
   "cell_type": "markdown",
   "metadata": {},
   "source": [
    "## 2. Ask the user which artist they'd like to listen to"
   ]
  },
  {
   "cell_type": "code",
   "execution_count": null,
   "metadata": {},
   "outputs": [],
   "source": [
    "# artist_num = input('What artist would you like to listen to (1-10)? ')\n",
    "playlist_num = 2\n",
    "playlist_index = int(playlist_num) - 1\n",
    "selected_playlist = playlists[playlist_index]\n",
    "\n",
    "tracks = spotify.get_tracks_by_playlist(selected_playlist['id'], simplify=True)\n",
    "# pprint(tracks)\n",
    "tracks = spotify.flatten_for_pandas(tracks)\n",
    "df_tracks = pd.DataFrame(tracks).set_index('num')\n",
    "df_tracks[['artist_name', 'name', 'album_name', 'album_image_url']].head(5)"
   ]
  },
  {
   "cell_type": "code",
   "execution_count": null,
   "metadata": {},
   "outputs": [],
   "source": [
    "# if you wanted to email these tracks to someone...\n",
    "html_table = spotify.get_formatted_tracklist_table_html(tracks)\n",
    "display(HTML(html_table))"
   ]
  },
  {
   "cell_type": "markdown",
   "metadata": {},
   "source": [
    "## 3. Listen to playlist"
   ]
  },
  {
   "cell_type": "code",
   "execution_count": null,
   "metadata": {
    "scrolled": true
   },
   "outputs": [],
   "source": [
    "\n",
    "playlist_player = spotify.get_playlist_player_html(selected_playlist['id'])\n",
    "# print('This is what the HTML embed code looks like:\\n', track_player)\n",
    "print(playlist_player)\n",
    "display(HTML(playlist_player))"
   ]
  },
  {
   "cell_type": "markdown",
   "metadata": {},
   "source": [
    "## 4. Get other playlists from this user"
   ]
  },
  {
   "cell_type": "code",
   "execution_count": null,
   "metadata": {},
   "outputs": [],
   "source": [
    "user_id = selected_playlist['owner_id']\n",
    "\n",
    "print('Getting {user_id}\\'s playlists...'.format(user_id=user_id))\n",
    "playlists = spotify.get_playlists_by_user(user_id)\n",
    "playlists = spotify.flatten_for_pandas(playlists)\n",
    "df = pd.DataFrame(playlists)\n",
    "df.head(8)"
   ]
  }
 ],
 "metadata": {
  "kernelspec": {
   "display_name": "Python 3",
   "language": "python",
   "name": "python3"
  },
  "language_info": {
   "codemirror_mode": {
    "name": "ipython",
    "version": 3
   },
   "file_extension": ".py",
   "mimetype": "text/x-python",
   "name": "python",
   "nbconvert_exporter": "python",
   "pygments_lexer": "ipython3",
   "version": "3.7.0"
  }
 },
 "nbformat": 4,
 "nbformat_minor": 2
}
