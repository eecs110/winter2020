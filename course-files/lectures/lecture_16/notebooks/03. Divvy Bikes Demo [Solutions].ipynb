{
 "cells": [
  {
   "cell_type": "markdown",
   "metadata": {},
   "source": [
    "## Please complete the following tasks\n",
    "\n",
    "Let's go through the following tasks so that we understand how the code works:\n",
    "1. Get station locations and bike availability data.\n",
    "2. Convert the data to a dataframe\n",
    "3. Write a program to display all of the stations on a map.\n",
    "4. See if you can modify the size of the marker based on the number of bikes available at the station.\n",
    "\n",
    "Here is the Divvy data [instructions](https://www.divvybikes.com/system-data).\n",
    "Here is a useful [python dictionary formatter](https://codebeautify.org/python-formatter-beautifier)."
   ]
  },
  {
   "cell_type": "code",
   "execution_count": null,
   "metadata": {},
   "outputs": [],
   "source": [
    "# import libraries:\n",
    "from urllib.request import urlopen\n",
    "import pprint\n",
    "import json\n",
    "import pandas as pd"
   ]
  },
  {
   "cell_type": "markdown",
   "metadata": {},
   "source": [
    "## Let's Analyze the Bike Data"
   ]
  },
  {
   "cell_type": "markdown",
   "metadata": {},
   "source": [
    "### 1a. Load the Station Locations"
   ]
  },
  {
   "cell_type": "code",
   "execution_count": null,
   "metadata": {},
   "outputs": [],
   "source": [
    "response = urlopen('https://gbfs.divvybikes.com/gbfs/en/station_information.json')\n",
    "results = response.read().decode('utf-8', 'ignore')\n",
    "station_info = json.loads(results)\n",
    "station_list = station_info['data']['stations']\n",
    "# print(station_list)"
   ]
  },
  {
   "cell_type": "markdown",
   "metadata": {},
   "source": [
    "### 1b. Load the Station Availability"
   ]
  },
  {
   "cell_type": "code",
   "execution_count": null,
   "metadata": {},
   "outputs": [],
   "source": [
    "response = urlopen('https://gbfs.divvybikes.com/gbfs/en/station_status.json')\n",
    "results = response.read().decode('utf-8', 'ignore')\n",
    "station_availability = json.loads(results)\n",
    "bike_availability_by_station = station_availability['data']['stations']\n",
    "# print(bike_availability_by_station)"
   ]
  },
  {
   "cell_type": "markdown",
   "metadata": {},
   "source": [
    "### 1c. Create a data frame from the dictionary"
   ]
  },
  {
   "cell_type": "code",
   "execution_count": null,
   "metadata": {},
   "outputs": [],
   "source": [
    "df_station_locations = pd.DataFrame(station_list).set_index('station_id')\n",
    "df_station_locations.head(5)"
   ]
  },
  {
   "cell_type": "markdown",
   "metadata": {},
   "source": [
    "### 1b. Loading Availability"
   ]
  },
  {
   "cell_type": "code",
   "execution_count": null,
   "metadata": {},
   "outputs": [],
   "source": [
    "df_station_availability = pd.DataFrame(bike_availability_by_station).set_index('station_id')\n",
    "df_station_availability.head(5)"
   ]
  },
  {
   "cell_type": "markdown",
   "metadata": {},
   "source": [
    "### 1c. Joining Location and Availability Tables"
   ]
  },
  {
   "cell_type": "code",
   "execution_count": null,
   "metadata": {},
   "outputs": [],
   "source": [
    "merged_table = df_station_availability.join(df_station_locations)\n",
    "simplified_table = merged_table[[\"name\", \"lat\", \"lon\", \"num_bikes_available\", \"num_docks_available\"]]\n",
    "simplified_table.head(10)"
   ]
  },
  {
   "cell_type": "markdown",
   "metadata": {},
   "source": [
    "### 2. Filtering and Sorting\n",
    "Modify the dataframe so that the station with the most num_bikes_available is at the top."
   ]
  },
  {
   "cell_type": "code",
   "execution_count": null,
   "metadata": {},
   "outputs": [],
   "source": [
    "# your code here\n",
    "simplified_table.sort_values('num_bikes_available', ascending=False)\n",
    "simplified_table.head(10)"
   ]
  },
  {
   "cell_type": "markdown",
   "metadata": {},
   "source": [
    "### 3. Filtering Data with User Input\n",
    "Write a program that prompts the user for a station name and then displays any station that has a partial match."
   ]
  },
  {
   "cell_type": "code",
   "execution_count": null,
   "metadata": {},
   "outputs": [],
   "source": [
    "# 1. Write a program that prompts the user for a \n",
    "# station name and then displays any station that has a partial match.\n",
    "\n",
    "# Note: this syntax is not straightforward. Found it on this forum: \n",
    "# https://stackoverflow.com/questions/27975069/how-to-filter-rows-containing-a-string-pattern-from-a-pandas-dataframe\n",
    "search_term = input('Which station are you looking for? ')\n",
    "my_filter = simplified_table['name'].str.contains(search_term)\n",
    "filtered_df = simplified_table[my_filter]\n",
    "filtered_df\n",
    "\n"
   ]
  },
  {
   "cell_type": "markdown",
   "metadata": {},
   "source": [
    "### 4. Display All of the Stations on the Map"
   ]
  },
  {
   "cell_type": "code",
   "execution_count": null,
   "metadata": {
    "scrolled": true
   },
   "outputs": [],
   "source": [
    "import folium\n",
    "\n",
    "# create map:\n",
    "chicago_map = folium.Map(\n",
    "    location=[41.867226, -87.615355],  #lat, lng\n",
    "    zoom_start=12,\n",
    "    tiles=\"Stamen toner\"  #\"Stamen watercolor\"\n",
    ")\n",
    "\n",
    "for index, station in simplified_table.head(100).iterrows():\n",
    "    circle_marker = folium.CircleMarker(\n",
    "        [station.get('lat'), station.get('lon')], \n",
    "        radius=station.get('num_bikes_available') * 5, \n",
    "        fill_color='teal', \n",
    "        color='teal', \n",
    "        popup=station.get('name') + ' has ' + str(station.get('num_bikes_available')) + ' available bikes.'\n",
    "    )\n",
    "    circle_marker.add_to(chicago_map)\n",
    "\n",
    "\n",
    "\n",
    "# show map:\n",
    "chicago_map"
   ]
  }
 ],
 "metadata": {
  "kernelspec": {
   "display_name": "Python 3",
   "language": "python",
   "name": "python3"
  },
  "language_info": {
   "codemirror_mode": {
    "name": "ipython",
    "version": 3
   },
   "file_extension": ".py",
   "mimetype": "text/x-python",
   "name": "python",
   "nbconvert_exporter": "python",
   "pygments_lexer": "ipython3",
   "version": "3.7.0"
  }
 },
 "nbformat": 4,
 "nbformat_minor": 2
}
