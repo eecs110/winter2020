{
 "cells": [
  {
   "cell_type": "code",
   "execution_count": null,
   "metadata": {},
   "outputs": [],
   "source": [
    "from urllib.request import urlopen\n",
    "import pprint\n",
    "import json\n",
    "import pandas as pd\n",
    "from apis import spotify"
   ]
  },
  {
   "cell_type": "markdown",
   "metadata": {},
   "source": [
    "## 1. Go and get the Google Homepage"
   ]
  },
  {
   "cell_type": "code",
   "execution_count": null,
   "metadata": {},
   "outputs": [],
   "source": [
    "# 1. get it from the internet\n",
    "response = urlopen('https://www.google.com')\n",
    "file_data = response.read().decode('utf-8', 'ignore')\n",
    "\n",
    "# 2. print it to the screen\n",
    "print(file_data)\n",
    "\n",
    "# 3. write it to a file\n",
    "# f = open('results/google_homepage.html', 'w')\n",
    "# f.write(file_data)\n",
    "# f.close()\n",
    "# print('Web page written to results/google_homepage.html. Go take a look!')"
   ]
  },
  {
   "cell_type": "markdown",
   "metadata": {},
   "source": [
    "## 2. Go and get a cat photo"
   ]
  },
  {
   "cell_type": "code",
   "execution_count": null,
   "metadata": {},
   "outputs": [],
   "source": [
    "# 1. get it from the internet\n",
    "response = urlopen('https://kittenrescue.org/wp-content/uploads/2017/03/KittenRescue_KittenCareHandbook.jpg')\n",
    "file_data = response.read()\n",
    "\n",
    "# 2. print it to the screen\n",
    "# print(file_data)\n",
    "\n",
    "# 3. write it to a file\n",
    "f = open('results/kitten.jpg', 'wb')  #note the 'wb' flag (b is for binary)\n",
    "f.write(file_data)\n",
    "f.close()\n",
    "print('Image written to results/kitten.jpg. Go take a look!')"
   ]
  },
  {
   "cell_type": "markdown",
   "metadata": {},
   "source": [
    "## 3. Go and get some data from Spotify"
   ]
  },
  {
   "cell_type": "code",
   "execution_count": null,
   "metadata": {},
   "outputs": [],
   "source": [
    "# take a look at the spotify module that Sarah made:\n",
    "from apis import spotify\n",
    "help(spotify)"
   ]
  },
  {
   "cell_type": "markdown",
   "metadata": {},
   "source": [
    "### Use the spotify.get_tracks() function to search for tracks"
   ]
  },
  {
   "cell_type": "code",
   "execution_count": null,
   "metadata": {},
   "outputs": [],
   "source": [
    "data = spotify.get_tracks('beyonce')\n",
    "\n",
    "# 3. write it to a file\n",
    "f = open('results/' + search_term.replace(' ', '_') + '.json', 'w')  \n",
    "f.write(json.dumps(data))\n",
    "f.close()\n",
    "\n",
    "\n",
    "print('Spotify data written to results/' + search_term.replace(' ', '_') + '.json. Go take a look!')"
   ]
  },
  {
   "cell_type": "markdown",
   "metadata": {},
   "source": [
    "## 3a. Go and get a Beyonce Song"
   ]
  },
  {
   "cell_type": "code",
   "execution_count": null,
   "metadata": {},
   "outputs": [],
   "source": [
    "# 1. get it from the internet\n",
    "track_address = data[0]['preview_url']\n",
    "track_id = data[0]['id']\n",
    "print(track_address, track_id)\n",
    "response = urlopen(track_address)\n",
    "file_data = response.read()\n",
    "\n",
    "# 2. print it to the screen\n",
    "# print(file_data)\n",
    "\n",
    "# 3. write it to a file\n",
    "f = open('results/song_' + track_id + '.mpeg', 'wb')  #note the 'wb' flag (b is for binary)\n",
    "f.write(file_data)\n",
    "f.close()\n",
    "print('results/song_' + track_id + '.mpeg. Go take a look!')"
   ]
  },
  {
   "cell_type": "markdown",
   "metadata": {},
   "source": [
    "### Display the tracks in a table"
   ]
  },
  {
   "cell_type": "code",
   "execution_count": null,
   "metadata": {},
   "outputs": [],
   "source": [
    "from IPython.core.display import HTML\n",
    "HTML(spotify.get_formatted_tracklist_table_html(data))"
   ]
  },
  {
   "cell_type": "code",
   "execution_count": null,
   "metadata": {},
   "outputs": [],
   "source": [
    "album_id = data[0]['album']['id']\n",
    "print(album_id)\n",
    "HTML(spotify.get_album_player_html(album_id))"
   ]
  },
  {
   "cell_type": "markdown",
   "metadata": {},
   "source": [
    "## 4. Go get some data from Yelp"
   ]
  },
  {
   "cell_type": "code",
   "execution_count": null,
   "metadata": {},
   "outputs": [],
   "source": [
    "from apis import yelp\n",
    "help(yelp)"
   ]
  },
  {
   "cell_type": "code",
   "execution_count": null,
   "metadata": {},
   "outputs": [],
   "source": [
    "data = yelp.get_businesses()\n",
    "# print(data[0])\n",
    "HTML(yelp.get_formatted_business_table(data[0], reviews=[]))"
   ]
  }
 ],
 "metadata": {
  "kernelspec": {
   "display_name": "Python 3",
   "language": "python",
   "name": "python3"
  },
  "language_info": {
   "codemirror_mode": {
    "name": "ipython",
    "version": 3
   },
   "file_extension": ".py",
   "mimetype": "text/x-python",
   "name": "python",
   "nbconvert_exporter": "python",
   "pygments_lexer": "ipython3",
   "version": "3.7.0"
  }
 },
 "nbformat": 4,
 "nbformat_minor": 2
}
