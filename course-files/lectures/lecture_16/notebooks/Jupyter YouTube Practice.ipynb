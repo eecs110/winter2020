{
 "cells": [
  {
   "cell_type": "markdown",
   "metadata": {},
   "source": [
    "# Exercise 1: In Class Activity\n",
    "1. Figure out how to query for a video\n",
    "2. Figure out how to display a list of videos using Pandas (hint: use one of the utilties functions)\n",
    "3. Figure out how to embed the first video returned from your search results in the notebook\n"
   ]
  },
  {
   "cell_type": "code",
   "execution_count": null,
   "metadata": {},
   "outputs": [],
   "source": [
    "from apis import youtube\n",
    "from apis import utilities\n",
    "from pprint import pprint\n",
    "from IPython.core.display import HTML\n",
    "\n",
    "# some formatting:\n",
    "HTML(utilities.get_jupyter_styling())"
   ]
  },
  {
   "cell_type": "code",
   "execution_count": null,
   "metadata": {},
   "outputs": [],
   "source": [
    "help(youtube)"
   ]
  },
  {
   "cell_type": "code",
   "execution_count": null,
   "metadata": {},
   "outputs": [],
   "source": [
    "help(utilities)"
   ]
  },
  {
   "cell_type": "code",
   "execution_count": null,
   "metadata": {},
   "outputs": [],
   "source": [
    "# Just a little syntax help...\n",
    "# video_player = youtube.get_video_player_html('https://www.youtube.com/embed/4sEV1lMn64k')\n",
    "# display(HTML(video_player))"
   ]
  },
  {
   "cell_type": "code",
   "execution_count": null,
   "metadata": {},
   "outputs": [],
   "source": []
  }
 ],
 "metadata": {
  "kernelspec": {
   "display_name": "Python 3",
   "language": "python",
   "name": "python3"
  },
  "language_info": {
   "codemirror_mode": {
    "name": "ipython",
    "version": 3
   },
   "file_extension": ".py",
   "mimetype": "text/x-python",
   "name": "python",
   "nbconvert_exporter": "python",
   "pygments_lexer": "ipython3",
   "version": "3.7.0"
  }
 },
 "nbformat": 4,
 "nbformat_minor": 2
}
