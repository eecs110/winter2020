{
 "cells": [
  {
   "cell_type": "markdown",
   "metadata": {},
   "source": [
    "# Exercise 3: In Class Activity\n",
    "1. Figure out how to search for a track and...\n",
    "  * Display matching tracks\n",
    "  * Embed a track player\n",
    "2. Figure out how to search for an artist and...\n",
    "  * Display matching artists\n",
    "  * Display an image of each matched artist\n",
    "3. Figure out how to search for a playlist and...\n",
    "  * Display matching playlists\n",
    "  * Embed a playlist player"
   ]
  },
  {
   "cell_type": "code",
   "execution_count": 1,
   "metadata": {},
   "outputs": [
    {
     "data": {
      "text/html": [
       "\n",
       "        <style>\n",
       "            .rendered_html img { \n",
       "                display: inline-block; \n",
       "                vertical-align: baseline;\n",
       "                max-width: 200px !important;\n",
       "                margin-right: 20px !important;\n",
       "            }\n",
       "            .rendered_html td, .rendered_html th { text-align: left !important; }\n",
       "        </style>\n",
       "        "
      ],
      "text/plain": [
       "<IPython.core.display.HTML object>"
      ]
     },
     "execution_count": 1,
     "metadata": {},
     "output_type": "execute_result"
    }
   ],
   "source": [
    "from apis import spotify\n",
    "from apis import utilities\n",
    "from pprint import pprint\n",
    "from IPython.core.display import HTML\n",
    "\n",
    "# some formatting:\n",
    "HTML(utilities.get_jupyter_styling())"
   ]
  },
  {
   "cell_type": "code",
   "execution_count": 2,
   "metadata": {},
   "outputs": [
    {
     "name": "stdout",
     "output_type": "stream",
     "text": [
      "Help on module apis.spotify in apis:\n",
      "\n",
      "NAME\n",
      "    apis.spotify\n",
      "\n",
      "FUNCTIONS\n",
      "    get_album_player_html(album_id: int, width: int = 300, height: int = 380)\n",
      "    \n",
      "    get_artists(search_term: str, simplify: bool = True)\n",
      "        Retrieves a list of Spotify artists, given the search term passed in.\n",
      "            * search_term (str): [Required] A search term (for an artist), represented as a string.\n",
      "            * simplify (bool):   Indicates whether you want to simplify the data that is returned.\n",
      "        Returns a list of artists.\n",
      "    \n",
      "    get_audio_features_by_track(track_id: str)\n",
      "        Retrieves Spotify's audio analysis of the track.\n",
      "            * track_id (str): [Required] The id of the Spotify track.\n",
      "        Returns a list of audio features.\n",
      "    \n",
      "    get_formatted_tracklist_table_html(tracks: list)\n",
      "        Makes a nice formatted HTML table of tracks. Good for writing to an \n",
      "        HTML file or for sending in an email.\n",
      "            * tracks(list): [Required] A list of tracks\n",
      "        Returns an HTML table as a string\n",
      "    \n",
      "    get_genres()\n",
      "    \n",
      "    get_genres_abridged()\n",
      "    \n",
      "    get_playlist_player_html(playlist_id: int, width: int = 400, height: int = 280)\n",
      "    \n",
      "    get_playlists(search_term: str, simplify: bool = True)\n",
      "        Retrieves a list of Spotify tracks, given the search term passed in.\n",
      "            * search_term (str): [Required] A search term (for a song), represented as a string.\n",
      "            * simplify (bool):   Indicates whether you want to simplify the data that is returned.\n",
      "        Returns a list of tracks.\n",
      "    \n",
      "    get_playlists_by_user(user_id: str, simplify: bool = True)\n",
      "        Retrieves a list of Spotify tracks, given the search term passed in.\n",
      "            * search_term (str): [Required] A search term (for a song), represented as a string.\n",
      "            * simplify (bool):   Indicates whether you want to simplify the data that is returned.\n",
      "        Returns a list of tracks.\n",
      "    \n",
      "    get_related_artists(artist_id: str, simplify: bool = True)\n",
      "        Retrieves a list of artists related to the artist you specify\n",
      "            * artist_id (str): [Required] The Spotify id of the artist, represented as a string.\n",
      "            * simplify (bool):   Indicates whether you want to simplify the data that is returned.\n",
      "        Returns a list of artists.\n",
      "    \n",
      "    get_similar_tracks(artist_ids: list = [], track_ids: list = [], genres: list = [], simplify: bool = True)\n",
      "        Spotify's way of providing recommendations. One or more params is required: \n",
      "        artist_ids, track_ids, or genres. Up to 5 seed values may be provided in \n",
      "        any combination of seed_artists, seed_tracks and seed_genres. In other words:\n",
      "        len(artist_ids) + len(track_ids) + len(genres) between 1 and 5.\n",
      "            * artist_ids (list): A list of artist ids\n",
      "            * track_ids (list): A list of track ids\n",
      "            * genres (genres): A list of genres\n",
      "        Returns a list of tracks that are similar\n",
      "    \n",
      "    get_top_tracks_by_artist(artist_id: str, simplify: bool = True)\n",
      "        Retrieves a list of Spotify \"top tracks\" by an artist\n",
      "            * artist_id (str): [Required] The Spotify id of the artist.\n",
      "            * simplify (bool):   Indicates whether you want to simplify the data that is returned.\n",
      "        Returns a list of tracks.\n",
      "    \n",
      "    get_track_player_html(track_id: int)\n",
      "        Creates the HTML tags for a Spotify player.\n",
      "            * track_id (int): [Required] The id of a track.\n",
      "        Returns an HTML iFrame  (str) corresponding to a Spotify player for the track.\n",
      "    \n",
      "    get_tracks(search_term: str, simplify: bool = True)\n",
      "        Retrieves a list of Spotify tracks, given the search term passed in.\n",
      "            * search_term (str): [Required] A search term (for a song), represented as a string.\n",
      "            * simplify (bool):   Indicates whether you want to simplify the data that is returned.\n",
      "        Returns a list of tracks.\n",
      "    \n",
      "    get_tracks_by_playlist(playlist_id: str, simplify: bool = True)\n",
      "        Retrieves a list of the tracks associated with a playlist_id\n",
      "            * playlist_id (str): [Required] The id of the Spotify playlist.\n",
      "            * simplify (bool):   Whether you want to simplify the data that is returned.\n",
      "        Returns a list of tracks.\n",
      "\n",
      "FILE\n",
      "    /Users/vanwars/northwestern/cs110/winter2020/website/course-files/lectures/lecture_17/apis/spotify.py\n",
      "\n",
      "\n"
     ]
    }
   ],
   "source": [
    "help(spotify)"
   ]
  },
  {
   "cell_type": "code",
   "execution_count": 3,
   "metadata": {},
   "outputs": [
    {
     "name": "stdout",
     "output_type": "stream",
     "text": [
      "Help on module apis.utilities in apis:\n",
      "\n",
      "NAME\n",
      "    apis.utilities\n",
      "\n",
      "FUNCTIONS\n",
      "    flatten_for_pandas(data: list)\n",
      "        Converts a list of nested dictionaries into a list of flattened \n",
      "        dictionaries that can be more easilty displayed using pandas.\n",
      "            * data (list): [Required] a list of dictionaries\n",
      "        Returns a flattened list of dictionaries (list).\n",
      "    \n",
      "    get_dataframe(data: list)\n",
      "        Converts a list of dictionaries into a flattened pandas dataframe.\n",
      "    \n",
      "    get_error_message(e, url=None)\n",
      "    \n",
      "    get_image_html(image_url: str)\n",
      "        Creates an image (HTML)\n",
      "            * image_url (str): [Required] The url of the image.\n",
      "        Returns an HTML image tag (str).\n",
      "    \n",
      "    get_jupyter_styling()\n",
      "\n",
      "FILE\n",
      "    /Users/vanwars/northwestern/cs110/winter2020/website/course-files/lectures/lecture_17/apis/utilities.py\n",
      "\n",
      "\n"
     ]
    }
   ],
   "source": [
    "help(utilities)"
   ]
  },
  {
   "cell_type": "code",
   "execution_count": 4,
   "metadata": {},
   "outputs": [],
   "source": [
    "# Just a little syntax help...\n",
    "# track_id = '18GiV1BaXzPVYpp9rmOg0E'\n",
    "# track_player = spotify.get_track_player_html(track_id)\n",
    "# display(HTML(track_player))"
   ]
  },
  {
   "cell_type": "code",
   "execution_count": 5,
   "metadata": {},
   "outputs": [
    {
     "data": {
      "text/html": [
       "\n",
       "    <iframe src=\"https://open.spotify.com/embed?uri=spotify:track:18GiV1BaXzPVYpp9rmOg0E&amp;theme=white\" width=\"300\" height=\"80\" frameborder=\"0\" allowtransparency=\"true\" allow=\"encrypted-media\" data-testid=\"audio-player\">\n",
       "    </iframe>\n",
       "    "
      ],
      "text/plain": [
       "<IPython.core.display.HTML object>"
      ]
     },
     "metadata": {},
     "output_type": "display_data"
    }
   ],
   "source": [
    "track_id = '18GiV1BaXzPVYpp9rmOg0E'\n",
    "track_player = spotify.get_track_player_html(track_id)\n",
    "display(HTML(track_player))"
   ]
  },
  {
   "cell_type": "code",
   "execution_count": null,
   "metadata": {},
   "outputs": [],
   "source": []
  }
 ],
 "metadata": {
  "kernelspec": {
   "display_name": "Python 3",
   "language": "python",
   "name": "python3"
  },
  "language_info": {
   "codemirror_mode": {
    "name": "ipython",
    "version": 3
   },
   "file_extension": ".py",
   "mimetype": "text/x-python",
   "name": "python",
   "nbconvert_exporter": "python",
   "pygments_lexer": "ipython3",
   "version": "3.7.0"
  }
 },
 "nbformat": 4,
 "nbformat_minor": 2
}
